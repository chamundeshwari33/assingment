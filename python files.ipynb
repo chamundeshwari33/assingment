{
 "cells": [
  {
   "cell_type": "code",
   "execution_count": 1,
   "metadata": {},
   "outputs": [
    {
     "name": "stdout",
     "output_type": "stream",
     "text": [
      "enter a number456\n"
     ]
    },
    {
     "data": {
      "text/plain": [
       "6"
      ]
     },
     "execution_count": 1,
     "metadata": {},
     "output_type": "execute_result"
    }
   ],
   "source": [
    "# 3. Write a python programming to print the large digit from given number\n",
    "def Large(n):\n",
    "    large = 0\n",
    "    while n != 0:\n",
    "        r = n % 10\n",
    "        if large < r:\n",
    "            large = r\n",
    "        n = n // 10\n",
    "    return large\n",
    "n=int(input(\"enter a number\"))\n",
    "Large(n)\n"
   ]
  },
  {
   "cell_type": "code",
   "execution_count": 3,
   "metadata": {},
   "outputs": [
    {
     "name": "stdout",
     "output_type": "stream",
     "text": [
      "enter m1\n",
      "enter n10\n"
     ]
    },
    {
     "data": {
      "text/plain": [
       "9"
      ]
     },
     "execution_count": 3,
     "metadata": {},
     "output_type": "execute_result"
    }
   ],
   "source": [
    "#4. Write a python programming to print the Palindrome count between two limits\n",
    "#Example:-\n",
    "#Test cases:- Input:- 1 10   Output:- 9\n",
    "#Test cases:- Input:- 11 100 Output:- 9 \n",
    "def palindrome(n):\n",
    "    s=0\n",
    "    k=n\n",
    "    while n!=0:\n",
    "        r=n%10\n",
    "        s=s*10+r\n",
    "        n=n//10\n",
    "    if k==s:\n",
    "        return True\n",
    "    else:\n",
    "        return False\n",
    "def Cnt(m,n):\n",
    "    c=0\n",
    "    for i in range(m,n):\n",
    "        if palindrome(i)==True:\n",
    "            c=c+1\n",
    "    return c\n",
    "m=int(input(\"enter m\"))\n",
    "n=int(input(\"enter n\"))\n",
    "Cnt(m,n)"
   ]
  },
  {
   "cell_type": "code",
   "execution_count": null,
   "metadata": {},
   "outputs": [],
   "source": []
  }
 ],
 "metadata": {
  "kernelspec": {
   "display_name": "Python 3",
   "language": "python",
   "name": "python3"
  },
  "language_info": {
   "codemirror_mode": {
    "name": "ipython",
    "version": 3
   },
   "file_extension": ".py",
   "mimetype": "text/x-python",
   "name": "python",
   "nbconvert_exporter": "python",
   "pygments_lexer": "ipython3",
   "version": "3.7.3"
  }
 },
 "nbformat": 4,
 "nbformat_minor": 2
}
