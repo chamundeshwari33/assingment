{
 "cells": [
  {
   "cell_type": "code",
   "execution_count": 4,
   "metadata": {},
   "outputs": [],
   "source": [
    "# and another half required to fill with orange color using Turtle Package.\n",
    "import turtle as y\n",
    "a=y.Turtle()\n",
    "a.color(\"green\")\n",
    "a.begin_fill()\n",
    "a.circle(130,360)\n",
    "a.end_fill()\n",
    "a.hideturtle()\n",
    "a.color(\"orange\")\n",
    "a.begin_fill()\n",
    "a.circle(130,180)\n",
    "a.end_fill()\n",
    "a.hideturtle()\n"
   ]
  },
  {
   "cell_type": "code",
   "execution_count": null,
   "metadata": {},
   "outputs": [],
   "source": [
    "# 2. Draw a Spirling Square with Pen color as 'Red'.\n",
    "import turtle as y\n",
    "a=y.Turtle()\n",
    "a.pencolor('black')\n",
    "for i in range (100):\n",
    "    a.forward(i)\n",
    "    a.left(91)\n",
    "y.done()\n"
   ]
  },
  {
   "cell_type": "code",
   "execution_count": null,
   "metadata": {},
   "outputs": [],
   "source": []
  }
 ],
 "metadata": {
  "kernelspec": {
   "display_name": "Python 3",
   "language": "python",
   "name": "python3"
  },
  "language_info": {
   "codemirror_mode": {
    "name": "ipython",
    "version": 3
   },
   "file_extension": ".py",
   "mimetype": "text/x-python",
   "name": "python",
   "nbconvert_exporter": "python",
   "pygments_lexer": "ipython3",
   "version": "3.7.3"
  }
 },
 "nbformat": 4,
 "nbformat_minor": 2
}
